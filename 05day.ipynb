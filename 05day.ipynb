{
 "cells": [
  {
   "cell_type": "markdown",
   "metadata": {},
   "source": [
    "PALM API"
   ]
  },
  {
   "cell_type": "code",
   "execution_count": 10,
   "metadata": {},
   "outputs": [],
   "source": [
    "import google.generativeai as palm\n",
    "import os\n",
    "\n",
    "palm.configure(api_key=os.environ['API_KEY'])\n",
    "\n",
    "response = palm.generate_text(\n",
    "  prompt=\"Once upon a time\"\n",
    ")"
   ]
  },
  {
   "cell_type": "code",
   "execution_count": 11,
   "metadata": {},
   "outputs": [
    {
     "name": "stdout",
     "output_type": "stream",
     "text": [
      ", there was a little girl who lived in a small village. She had a very happy life, and she loved to play with her friends. One day, she was playing in the forest when she came across a magical creature. The creature was a beautiful unicorn, and it told the girl that it could grant her one wish. The girl was so excited, and she immediately wished for a new doll. The unicorn granted her wish, and the girl was so happy. She ran home to tell her parents all about it, and they were just as happy as she was. From then on, the girl always played with her new doll, and she always cherished the memory of meeting the magical unicorn.\n"
     ]
    }
   ],
   "source": [
    "print(response.result)"
   ]
  },
  {
   "cell_type": "markdown",
   "metadata": {},
   "source": [
    "All Modals of Palm API"
   ]
  },
  {
   "cell_type": "code",
   "execution_count": 12,
   "metadata": {},
   "outputs": [
    {
     "name": "stdout",
     "output_type": "stream",
     "text": [
      "Name: models/text-bison-001\n",
      "Description: Model targeted for text generation. \n",
      "\n",
      "Name: models/text-bison-recitation-off\n",
      "Description: Model targeted for text generation with recitation turned off. \n",
      "\n",
      "Name: models/text-bison-safety-off\n",
      "Description: Model targeted for text generation with safety turned off. \n",
      "\n",
      "Name: models/text-bison-safety-recitation-off\n",
      "Description: Model targeted for text generation with safety and recitation turned off. \n",
      "\n"
     ]
    }
   ],
   "source": [
    "models = [m for m in palm.list_models() if 'generateText' in m.supported_generation_methods]\n",
    "for m in models:\n",
    "  print(\"Name: \"+m.name)\n",
    "  print(\"Description: \"+m.description, '\\n')\n",
    "  # print(\"\")\n",
    "model = models[3].name\n",
    "# print(model)"
   ]
  },
  {
   "cell_type": "code",
   "execution_count": 13,
   "metadata": {},
   "outputs": [
    {
     "name": "stdout",
     "output_type": "stream",
     "text": [
      "Google.GenerativeAI is a web-based tool that allows you to create text, images, audio, and video content using artificial intelligence. You can use it to generate creative content, solve problems, and learn new things. To use Google.GenerativeAI, simply go to the website and select the type of content you want to create. Then, enter your prompt and click \"Generate.\" The tool will then use AI to generate the content you requested.\n"
     ]
    }
   ],
   "source": [
    "prompt = \"\"\"\n",
    "Give me a brief description of google.generativeai and how to use it.\n",
    "\"\"\"\n",
    "\n",
    "completion = palm.generate_text(\n",
    "    model=model,\n",
    "    prompt=prompt,\n",
    "    temperature=1,\n",
    "    max_output_tokens=800,\n",
    ")\n",
    "\n",
    "print(completion.result)"
   ]
  },
  {
   "cell_type": "code",
   "execution_count": 14,
   "metadata": {},
   "outputs": [
    {
     "name": "stdout",
     "output_type": "stream",
     "text": [
      "Here are some popular functions of google.generativeai and their syntax along with example code snippets:\n",
      "\n",
      "* **generate_text()** Generates text based on a prompt.\n",
      "\n",
      "```\n",
      "generate_text(prompt, max_length=100, temperature=0.9, top_p=0.9, repetition_penalty=1.0)\n",
      "```\n",
      "\n",
      "Example:\n",
      "\n",
      "```\n",
      "generated_text = generate_text(\"Write a poem about a cat\", max_length=100, temperature=0.9, top_p=0.9, repetition_penalty=1.0)\n",
      "print(generated_text)\n",
      "```\n",
      "\n",
      "Output:\n",
      "\n",
      "```\n",
      "Ode to a Cat\n",
      "\n",
      "Soft fur and gentle paws,\n",
      "A purring sound that fills the house.\n",
      "A cat is a friend to all,\n",
      "A furry companion who loves to play.\n",
      "\n",
      "They chase mice and birds,\n",
      "And climb trees with ease.\n",
      "They're always up for a cuddle,\n",
      "And they make the best pets.\n",
      "\n",
      "A cat is a constant source of joy,\n",
      "And they bring happiness to everyone they meet.\n",
      "They're a part of the family,\n",
      "And they're loved unconditionally.\n",
      "```\n",
      "\n",
      "* **generate_image()** Generates an image based on a prompt.\n",
      "\n",
      "```\n",
      "generate_image(prompt, max_height=256, max_width=256, seed=None)\n",
      "```\n",
      "\n",
      "Example:\n",
      "\n",
      "```\n",
      "generated_image = generate_image(\"A photo of a sunset over the ocean\", max_height=256, max_width=256, seed=None)\n",
      "plt.imshow(generated_image)\n",
      "```\n",
      "\n",
      "Output:\n",
      "\n",
      "![A photo of a sunset over the ocean](https://i.imgur.com/0537m3U.png)\n",
      "\n",
      "* **generate_audio()** Generates an audio clip based on a prompt.\n",
      "\n",
      "```\n",
      "generate_audio(prompt, sample_rate=16000, duration=5, temperature=0.9, top_p=0.9, repetition_penalty=1.0)\n",
      "```\n",
      "\n",
      "Example:\n",
      "\n",
      "```\n",
      "generated_audio = generate_audio(\"A song about a love lost\", sample_rate=16000, duration=5, temperature=0.9, top_p=0.9, repetition_penalty=1.0)\n",
      "playsound(generated_audio)\n",
      "```\n",
      "\n",
      "Output:\n",
      "\n",
      "[Audio clip of a song about a love lost](https://drive.google.com/file/d/1_12-1_h4i753_Xt-881_X14-f95-91zY/view?usp=sharing)\n",
      "\n",
      "* **translate_text()** Translates text from one language to another.\n",
      "\n",
      "```\n",
      "translate_text(text, source_language, target_language)\n",
      "```\n",
      "\n",
      "Example:\n",
      "\n",
      "```\n",
      "translated_text = translate_text(\"This is a test sentence\", \"en\", \"es\")\n",
      "print(translated_text)\n",
      "```\n",
      "\n",
      "Output:\n",
      "\n",
      "```\n",
      "Esta es una oración de prueba.\n",
      "```\n"
     ]
    }
   ],
   "source": [
    "prompt = \"Tell me some popular function of google.generativeai with syntax and example.\"\n",
    "completion = palm.generate_text(\n",
    "    model=model,\n",
    "    prompt=prompt,\n",
    "    temperature=1,\n",
    "    max_output_tokens=800,\n",
    ")\n",
    "\n",
    "print(completion.result)"
   ]
  },
  {
   "cell_type": "code",
   "execution_count": 2,
   "metadata": {},
   "outputs": [],
   "source": [
    "from langchain.prompts import PromptTemplate\n",
    "\n",
    "template = \"\"\"Question: {question}\n",
    "\n",
    "Answer: Let's think step by step.\"\"\"\n",
    "prompt = PromptTemplate.from_template(template)"
   ]
  },
  {
   "cell_type": "code",
   "execution_count": null,
   "metadata": {},
   "outputs": [],
   "source": []
  }
 ],
 "metadata": {
  "kernelspec": {
   "display_name": "Python 3",
   "language": "python",
   "name": "python3"
  },
  "language_info": {
   "codemirror_mode": {
    "name": "ipython",
    "version": 3
   },
   "file_extension": ".py",
   "mimetype": "text/x-python",
   "name": "python",
   "nbconvert_exporter": "python",
   "pygments_lexer": "ipython3",
   "version": "3.11.3"
  }
 },
 "nbformat": 4,
 "nbformat_minor": 2
}
